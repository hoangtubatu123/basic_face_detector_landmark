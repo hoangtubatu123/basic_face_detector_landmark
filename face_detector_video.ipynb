{
 "cells": [
  {
   "cell_type": "code",
   "execution_count": 1,
   "metadata": {},
   "outputs": [],
   "source": [
    "from imutils.video import VideoStream\n",
    "from imutils import face_utils\n",
    "import argparse\n",
    "import imutils\n",
    "import time\n",
    "import dlib\n",
    "import cv2\n",
    "import numpy as np"
   ]
  },
  {
   "cell_type": "code",
   "execution_count": 2,
   "metadata": {},
   "outputs": [],
   "source": [
    "arr = np.fromfile('mmod_human_face_detector.dat', dtype=float)\n",
    "arr2 = np.fromfile('shape_predictor_5_face_landmarks.dat', dtype=float)"
   ]
  },
  {
   "cell_type": "code",
   "execution_count": 3,
   "metadata": {},
   "outputs": [
    {
     "name": "stdout",
     "output_type": "stream",
     "text": [
      "(91242,)\n",
      "(1143811,)\n"
     ]
    }
   ],
   "source": [
    "print(arr.shape)\n",
    "print(arr2.shape)"
   ]
  },
  {
   "cell_type": "code",
   "execution_count": null,
   "metadata": {},
   "outputs": [],
   "source": [
    "detector = dlib.get_frontal_face_detector()\n",
    "# predictor = dlib.cnn_face_detection_model_v1(\"mmod_human_face_detector.dat\")\n",
    "\n",
    "predictor = dlib.shape_predictor('shape_predictor_5_face_landmarks.dat')"
   ]
  },
  {
   "cell_type": "code",
   "execution_count": 5,
   "metadata": {},
   "outputs": [],
   "source": [
    "vc = cv2.VideoCapture(0)\n",
    "currentFrame = 0\n",
    "time.sleep(2.0)"
   ]
  },
  {
   "cell_type": "code",
   "execution_count": 6,
   "metadata": {},
   "outputs": [
    {
     "ename": "TypeError",
     "evalue": "__call__(): incompatible function arguments. The following argument types are supported:\n    1. (self: dlib.cnn_face_detection_model_v1, imgs: list, upsample_num_times: int=0, batch_size: int=128) -> std::__1::vector<std::__1::vector<dlib::mmod_rect, std::__1::allocator<dlib::mmod_rect> >, std::__1::allocator<std::__1::vector<dlib::mmod_rect, std::__1::allocator<dlib::mmod_rect> > > >\n    2. (self: dlib.cnn_face_detection_model_v1, img: array, upsample_num_times: int=0) -> std::__1::vector<dlib::mmod_rect, std::__1::allocator<dlib::mmod_rect> >\n\nInvoked with: <dlib.cnn_face_detection_model_v1 object at 0x112650ae8>, array([[ 85,  84,  84, ..., 255, 255, 255],\n       [ 84,  82,  83, ..., 255, 255, 255],\n       [ 85,  83,  83, ..., 255, 255, 255],\n       ...,\n       [103, 108, 110, ..., 188, 188, 188],\n       [109, 110, 112, ..., 189, 191, 190],\n       [105, 110, 113, ..., 191, 191, 191]], dtype=uint8), rectangle(130,198,439,508)\n\nDid you forget to `#include <pybind11/stl.h>`? Or <pybind11/complex.h>,\n<pybind11/functional.h>, <pybind11/chrono.h>, etc. Some automatic\nconversions are optional and require extra headers to be included\nwhen compiling your pybind11 module.",
     "output_type": "error",
     "traceback": [
      "\u001b[0;31m---------------------------------------------------------------------------\u001b[0m",
      "\u001b[0;31mTypeError\u001b[0m                                 Traceback (most recent call last)",
      "\u001b[0;32m<ipython-input-6-a78aef1e5578>\u001b[0m in \u001b[0;36m<module>\u001b[0;34m()\u001b[0m\n\u001b[1;32m     16\u001b[0m \u001b[0;34m\u001b[0m\u001b[0m\n\u001b[1;32m     17\u001b[0m         \u001b[0;31m#determine landmark points and revert numpy array\u001b[0m\u001b[0;34m\u001b[0m\u001b[0;34m\u001b[0m\u001b[0m\n\u001b[0;32m---> 18\u001b[0;31m         \u001b[0mshape\u001b[0m \u001b[0;34m=\u001b[0m \u001b[0mpredictor\u001b[0m\u001b[0;34m(\u001b[0m\u001b[0mgray\u001b[0m\u001b[0;34m,\u001b[0m \u001b[0mface\u001b[0m\u001b[0;34m)\u001b[0m\u001b[0;34m\u001b[0m\u001b[0m\n\u001b[0m\u001b[1;32m     19\u001b[0m         \u001b[0mshape\u001b[0m \u001b[0;34m=\u001b[0m \u001b[0mface_utils\u001b[0m\u001b[0;34m.\u001b[0m\u001b[0mshape_to_np\u001b[0m\u001b[0;34m(\u001b[0m\u001b[0mshape\u001b[0m\u001b[0;34m)\u001b[0m\u001b[0;34m\u001b[0m\u001b[0m\n\u001b[1;32m     20\u001b[0m \u001b[0;34m\u001b[0m\u001b[0m\n",
      "\u001b[0;31mTypeError\u001b[0m: __call__(): incompatible function arguments. The following argument types are supported:\n    1. (self: dlib.cnn_face_detection_model_v1, imgs: list, upsample_num_times: int=0, batch_size: int=128) -> std::__1::vector<std::__1::vector<dlib::mmod_rect, std::__1::allocator<dlib::mmod_rect> >, std::__1::allocator<std::__1::vector<dlib::mmod_rect, std::__1::allocator<dlib::mmod_rect> > > >\n    2. (self: dlib.cnn_face_detection_model_v1, img: array, upsample_num_times: int=0) -> std::__1::vector<dlib::mmod_rect, std::__1::allocator<dlib::mmod_rect> >\n\nInvoked with: <dlib.cnn_face_detection_model_v1 object at 0x112650ae8>, array([[ 85,  84,  84, ..., 255, 255, 255],\n       [ 84,  82,  83, ..., 255, 255, 255],\n       [ 85,  83,  83, ..., 255, 255, 255],\n       ...,\n       [103, 108, 110, ..., 188, 188, 188],\n       [109, 110, 112, ..., 189, 191, 190],\n       [105, 110, 113, ..., 191, 191, 191]], dtype=uint8), rectangle(130,198,439,508)\n\nDid you forget to `#include <pybind11/stl.h>`? Or <pybind11/complex.h>,\n<pybind11/functional.h>, <pybind11/chrono.h>, etc. Some automatic\nconversions are optional and require extra headers to be included\nwhen compiling your pybind11 module."
     ]
    }
   ],
   "source": [
    "while(True):\n",
    "    ret ,frame = vc.read()\n",
    "    frame = imutils.resize(frame, width = 400)\n",
    "    gray = cv2.cvtColor(frame, cv2.COLOR_BGR2GRAY)\n",
    "    \n",
    "    faces = detector(gray, 0)\n",
    "#     print(faces)\n",
    "    if len(faces) > 0:\n",
    "        text = \"{} face(s) found\".format(len(faces))\n",
    "        cv2.putText(frame, text, (10, 20), cv2.FONT_HERSHEY_SIMPLEX,0.5, (0, 0, 255), 2)\n",
    "        \n",
    "    for face in faces:\n",
    "        #bounding box\n",
    "        (bx, by, bH, bW) = face_utils.rect_to_bb(face)\n",
    "        cv2.rectangle(frame, (bx, by), (bx+bW, by+bH), (0,0,255),1)\n",
    "        \n",
    "        #determine landmark points and revert numpy array\n",
    "        shape = predictor(gray, face)\n",
    "        shape = face_utils.shape_to_np(shape)\n",
    "        \n",
    "        for (i, (x, y)) in enumerate(shape):\n",
    "            cv2.circle(frame, (x, y), 1, (0, 0, 255), -1)\n",
    "            cv2.putText(frame, str(i + 1), (x - 10, y - 10),cv2.FONT_HERSHEY_SIMPLEX, 0.35, (0, 0, 255), 1)\n",
    "        \n",
    "    #show the frame\n",
    "    cv2.imshow(\"Video\", frame)\n",
    "    key = cv2.waitKey(1) & 0xFF\n",
    "    \n",
    "    #if the key == q, break\n",
    "    if key == ord('q'):\n",
    "        break"
   ]
  },
  {
   "cell_type": "code",
   "execution_count": null,
   "metadata": {},
   "outputs": [],
   "source": [
    "#do a bit of cleanup\n",
    "cv2.destroyAllwindows()\n",
    "vc.stop()\n"
   ]
  },
  {
   "cell_type": "code",
   "execution_count": null,
   "metadata": {},
   "outputs": [],
   "source": []
  }
 ],
 "metadata": {
  "kernelspec": {
   "display_name": "Python 3",
   "language": "python",
   "name": "python3"
  },
  "language_info": {
   "codemirror_mode": {
    "name": "ipython",
    "version": 3
   },
   "file_extension": ".py",
   "mimetype": "text/x-python",
   "name": "python",
   "nbconvert_exporter": "python",
   "pygments_lexer": "ipython3",
   "version": "3.6.2"
  }
 },
 "nbformat": 4,
 "nbformat_minor": 2
}
