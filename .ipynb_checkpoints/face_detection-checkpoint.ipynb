{
 "cells": [
  {
   "cell_type": "code",
   "execution_count": 2,
   "metadata": {},
   "outputs": [],
   "source": [
    "from imutils.video import VideoStream\n",
    "from imutils import face_utils\n",
    "import argparse\n",
    "import imutils\n",
    "import time\n",
    "import dlib\n",
    "import cv2"
   ]
  },
  {
   "cell_type": "code",
   "execution_count": null,
   "metadata": {},
   "outputs": [],
   "source": []
  },
  {
   "cell_type": "code",
   "execution_count": 3,
   "metadata": {},
   "outputs": [
    {
     "name": "stdout",
     "output_type": "stream",
     "text": [
      "<dlib.shape_predictor object at 0x10eab7768>\n"
     ]
    }
   ],
   "source": [
    "# initialize Hog + linear SVM in dlib\n",
    "detector = dlib.get_frontal_face_detector()\n",
    "#predictor landmark\n",
    "prediction = dlib.shape_predictor(\"shape_predictor_5_face_landmarks.dat\")\n",
    "print (prediction)"
   ]
  },
  {
   "cell_type": "code",
   "execution_count": 4,
   "metadata": {},
   "outputs": [
    {
     "name": "stdout",
     "output_type": "stream",
     "text": [
      "[INFO] camera sensor warming up...\n"
     ]
    }
   ],
   "source": [
    "# initialize the video stream and sleep for a bit, allowing the\n",
    "print(\"[INFO] camera sensor warming up...\")\n",
    "\n",
    "\n",
    "# vs = VideoStream(src=1).start()\n",
    "# vs = VideoStream(usePiCamera=True).start() # Raspberry Pi\n",
    "# time.sleep(2.0)"
   ]
  },
  {
   "cell_type": "code",
   "execution_count": 5,
   "metadata": {},
   "outputs": [],
   "source": [
    "img = cv2.imread('data/cuong.jpg')\n",
    "# cv2.imshow('image', img)"
   ]
  },
  {
   "cell_type": "code",
   "execution_count": 6,
   "metadata": {},
   "outputs": [],
   "source": [
    "#grayscale\n",
    "gray = cv2.cvtColor(img, cv2.COLOR_BGR2GRAY)"
   ]
  },
  {
   "cell_type": "code",
   "execution_count": 7,
   "metadata": {},
   "outputs": [],
   "source": [
    "faces = detector(gray, 0)"
   ]
  },
  {
   "cell_type": "code",
   "execution_count": 8,
   "metadata": {},
   "outputs": [
    {
     "name": "stdout",
     "output_type": "stream",
     "text": [
      "rectangles[[(134, 214) (313, 393)]]\n"
     ]
    }
   ],
   "source": [
    "print(faces)"
   ]
  },
  {
   "cell_type": "code",
   "execution_count": 12,
   "metadata": {},
   "outputs": [],
   "source": [
    "if len(faces) > 0:\n",
    "    text = \"{} face(s) found\".format(len(faces))\n",
    "    cv2.putText(img, text, (10, 20), cv2.FONT_HERSHEY_SIMPLEX,\n",
    "                    0.5, (0, 0, 255), 2)"
   ]
  },
  {
   "cell_type": "code",
   "execution_count": 16,
   "metadata": {},
   "outputs": [],
   "source": [
    "for face in faces:\n",
    "    (bx, by, bW, bH) = face_utils.rect_to_bb(face)\n",
    "    cv2.rectangle(img, (bx, by), (bx+bW, by+bH), (0, 0 ,255), 1)\n",
    "    # determine the facial landmarks for the face region, then convert to array numpy\n",
    "    shape = prediction(gray, face)\n",
    "    shape = face_utils.shape_to_np(shape)\n",
    "    \n",
    "    # loop over the (x, y)-coordinates for the facial landmarks\n",
    "    for (i, (x,y)) in enumerate(shape):\n",
    "        cv2.circle(img, (x, y), 1, (0, 0, 255), -1)\n",
    "        cv2.putText(img, str(i + 1), (x - 10, y - 10),cv2.FONT_HERSHEY_SIMPLEX, 0.35, (0, 0, 255), 1)"
   ]
  },
  {
   "cell_type": "code",
   "execution_count": null,
   "metadata": {},
   "outputs": [],
   "source": [
    "cv2.imshow(\"image\", img)\n",
    "       "
   ]
  }
 ],
 "metadata": {
  "kernelspec": {
   "display_name": "Python 3",
   "language": "python",
   "name": "python3"
  },
  "language_info": {
   "codemirror_mode": {
    "name": "ipython",
    "version": 3
   },
   "file_extension": ".py",
   "mimetype": "text/x-python",
   "name": "python",
   "nbconvert_exporter": "python",
   "pygments_lexer": "ipython3",
   "version": "3.6.2"
  }
 },
 "nbformat": 4,
 "nbformat_minor": 2
}
